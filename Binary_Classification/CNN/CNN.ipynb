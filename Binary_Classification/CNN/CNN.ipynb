{
 "cells": [
  {
   "cell_type": "code",
   "execution_count": null,
   "id": "e7fd69e9",
   "metadata": {},
   "outputs": [],
   "source": [
    "import numpy as np \n",
    "import pandas as pd\n",
    "import matplotlib.pyplot as plt\n",
    "from PIL import Image\n",
    "import os\n",
    "import seaborn as sns\n",
    "import keras\n",
    "from keras.models import Model\n",
    "from keras.layers import Dense\n",
    "import keras\n",
    "from keras.preprocessing import image as kimage\n",
    "from keras.applications.resnet_v2 import preprocess_input\n",
    "from keras.applications import resnet_v2\n",
    "import tensorflow as tf"
   ]
  },
  {
   "cell_type": "code",
   "execution_count": null,
   "id": "bd59c896",
   "metadata": {},
   "outputs": [],
   "source": [
    "train = []\n",
    "test = []\n",
    "train_labels = []\n",
    "test_labels = []\n",
    "lista = [\"class_0\",\n",
    "\"class_1\",\"class_2\",\"class_3\",\"class_4\",\"class_5\",\n",
    "         \"class_6\", \"class_7\",\"class_8\",\"class_9\"]\n",
    "fold = [\"train/\", \"test/\"]\n",
    " \n",
    "for j in fold:\n",
    "    for i in range(len(lista)):\n",
    "        path = \"mel_spect_binary/\"+j+lista[i]+\"/\"\n",
    "        Class=os.listdir(path)\n",
    "        for a in Class:\n",
    "          image = Image.open(path+a)\n",
    "          imResize = image.resize((224,224), Image.ANTIALIAS)\n",
    "          if (j == \"train/\"):\n",
    "          #size_image = image_from_array.resize((height, width))\n",
    "              train.append(np.asarray(imResize))\n",
    "              train_labels.append(str(lista[i]))\n",
    "          else:\n",
    "              test.append(np.asarray(imResize))\n",
    "              test_labels.append(str(lista[i]))\n",
    "X_train = train\n",
    "y_train = train_labels\n",
    "X_test = test\n",
    "y_test = test_labels"
   ]
  },
  {
   "cell_type": "code",
   "execution_count": null,
   "id": "8337aca7",
   "metadata": {},
   "outputs": [],
   "source": [
    "def add_3d(x):\n",
    "  l = []\n",
    "  for i in x:\n",
    "    if i.shape == (224,224): #if the image is gray scale shape\n",
    "      img2 = np.stack((i,i,i), axis = -1) #add three channels\n",
    "      l.append(img2)\n",
    "    else:\n",
    "      l.append(i)\n",
    "  return np.asarray(l)\n",
    "X_train = add_3d(X_train)\n",
    "X_test = add_3d(X_test)"
   ]
  },
  {
   "cell_type": "code",
   "execution_count": null,
   "id": "0ee26ab0",
   "metadata": {},
   "outputs": [],
   "source": [
    "from sklearn.utils import shuffle\n",
    "X_train, y_train = shuffle(X_train, y_train,random_state = 1)\n",
    "X_test, y_test = shuffle(X_test, y_test, random_state = 1)"
   ]
  },
  {
   "cell_type": "code",
   "execution_count": null,
   "id": "6a1c7b80",
   "metadata": {},
   "outputs": [],
   "source": [
    "train_img_pro = kimage.ImageDataGenerator(preprocessing_function=\n",
    "resnet_v2.preprocess_input)\n",
    "test_img_pro = kimage.ImageDataGenerator(preprocessing_function=\n",
    "resnet_v2.preprocess_input)"
   ]
  },
  {
   "cell_type": "code",
   "execution_count": null,
   "id": "98cb7f2f",
   "metadata": {},
   "outputs": [],
   "source": [
    "from sklearn.preprocessing import LabelEncoder\n",
    "encoder = LabelEncoder()\n",
    "encoder.fit(y_train)\n",
    "y_train = encoder.transform(y_train)\n",
    "dummy_y = keras.utils.np_utils.to_categorical(y_train)\n",
    "y_test = encoder.transform(y_test)\n",
    "dummy_val = keras.utils.np_utils.to_categorical(y_test)"
   ]
  },
  {
   "cell_type": "code",
   "execution_count": null,
   "id": "183f9122",
   "metadata": {},
   "outputs": [],
   "source": [
    "#Import Resnet model\n",
    "base_net = resnet_v2.ResNet50V2(input_shape=(224,224,3),\n",
    "                         include_top=False, #delete last layers\n",
    "                         weights='imagenet', #imagenet weights \n",
    "                         pooling='avg')"
   ]
  },
  {
   "cell_type": "code",
   "execution_count": null,
   "id": "f84dcadb",
   "metadata": {},
   "outputs": [],
   "source": [
    "generator_train = train_img_pro.flow(X_train, dummy_y)\n",
    "generator_test = test_img_pro.flow(X_test, dummy_val, shuffle = False) #pay attention to the shuffle option"
   ]
  },
  {
   "cell_type": "code",
   "execution_count": null,
   "id": "2c0297b8",
   "metadata": {},
   "outputs": [],
   "source": [
    "for layer in base_net.layers:\n",
    "  layer.trainable = False\n",
    "#Build our NN classificator\n",
    "x = base_net.output\n",
    "x = Dense(1024, activation = \"relu\")(x)\n",
    "x = Dense(128, activation = \"relu\")(x)\n",
    "pred = Dense(10, activation = \"softmax\")(x)\n",
    "net = Model(inputs=base_net.input, outputs = pred)\n",
    "net.compile(loss = keras.losses.categorical_crossentropy, optimizer = \"adam\", metrics = ['accuracy'])\n",
    "net.fit_generator(generator_train,validation_data = generator_test, epochs=100)"
   ]
  },
  {
   "cell_type": "code",
   "execution_count": null,
   "id": "bccda96c",
   "metadata": {},
   "outputs": [],
   "source": [
    "net.evaluate_generator(generator_train)"
   ]
  },
  {
   "cell_type": "code",
   "execution_count": null,
   "id": "c0f17eaf",
   "metadata": {},
   "outputs": [],
   "source": [
    "net.evaluate_generator(generator_test)"
   ]
  },
  {
   "cell_type": "code",
   "execution_count": null,
   "id": "e57e2e03",
   "metadata": {},
   "outputs": [],
   "source": [
    "plt.plot(history.history['accuracy'])\n",
    "plt.plot(history.history['val_accuracy'])\n",
    "plt.title('Accuracy Curves')\n",
    "plt.ylabel('Accuracy')\n",
    "plt.xlabel('Epoch')\n",
    "plt.legend(['Train', 'Test'], loc='lower right')\n",
    "plt.savefig('Binary_classification.svg')\n",
    "plt.show()"
   ]
  }
 ],
 "metadata": {
  "accelerator": "GPU",
  "colab": {
   "name": "",
   "version": ""
  },
  "gpuClass": "standard",
  "kernelspec": {
   "display_name": "Python 3 (ipykernel)",
   "language": "python",
   "name": "python3"
  },
  "language_info": {
   "codemirror_mode": {
    "name": "ipython",
    "version": 3
   },
   "file_extension": ".py",
   "mimetype": "text/x-python",
   "name": "python",
   "nbconvert_exporter": "python",
   "pygments_lexer": "ipython3",
   "version": "3.7.3"
  }
 },
 "nbformat": 4,
 "nbformat_minor": 5
}
